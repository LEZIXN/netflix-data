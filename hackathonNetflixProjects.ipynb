{
 "cells": [
  {
   "cell_type": "markdown",
   "id": "64608aa2",
   "metadata": {},
   "source": [
    "what is matplotl library?\n",
    "\n",
    "\n",
    "Matplotlib is a popular Python library used for data visualization — especially for creating charts and graphs.\n",
    "\n",
    "\n",
    "-bar graph\n",
    "-line plots\n",
    "-histogram\n",
    "-box chart\n",
    "-etc..."
   ]
  },
  {
   "cell_type": "markdown",
   "id": "c2a36831",
   "metadata": {},
   "source": [
    "IMPORT THE PANDA"
   ]
  },
  {
   "cell_type": "code",
   "execution_count": null,
   "id": "2de215b0",
   "metadata": {},
   "outputs": [],
   "source": [
    "import pandas as pd\n",
    "#importing panda"
   ]
  },
  {
   "cell_type": "markdown",
   "id": "d1bc8154",
   "metadata": {},
   "source": [
    "IMPORT MATPLOTLIB\n"
   ]
  },
  {
   "cell_type": "code",
   "execution_count": null,
   "id": "d6ab24a4",
   "metadata": {},
   "outputs": [],
   "source": [
    "import matplotlib.pyplot as plt\n",
    "#importing matplotlib"
   ]
  },
  {
   "cell_type": "markdown",
   "id": "81584b9e",
   "metadata": {},
   "source": [
    "READ THE TXT FILE"
   ]
  },
  {
   "cell_type": "code",
   "execution_count": null,
   "id": "34152b76",
   "metadata": {},
   "outputs": [],
   "source": [
    "df = pd.read_csv('netflix_titles_2021.csv')\n",
    "#read the file"
   ]
  },
  {
   "cell_type": "code",
   "execution_count": null,
   "id": "a11d0a2a",
   "metadata": {},
   "outputs": [
    {
     "name": "stdout",
     "output_type": "stream",
     "text": [
      "   show_id     type                                title  \\\n",
      "0       s1    Movie                 Dick Johnson Is Dead   \n",
      "1       s2  TV Show                        Blood & Water   \n",
      "2       s3  TV Show                            Ganglands   \n",
      "3       s4  TV Show                Jailbirds New Orleans   \n",
      "4       s5  TV Show                         Kota Factory   \n",
      "5       s6  TV Show                        Midnight Mass   \n",
      "6       s7    Movie     My Little Pony: A New Generation   \n",
      "7       s8    Movie                              Sankofa   \n",
      "8       s9  TV Show        The Great British Baking Show   \n",
      "9      s10    Movie                         The Starling   \n",
      "10     s11  TV Show  Vendetta: Truth, Lies and The Mafia   \n",
      "\n",
      "                         director  \\\n",
      "0                 Kirsten Johnson   \n",
      "1                             NaN   \n",
      "2                 Julien Leclercq   \n",
      "3                             NaN   \n",
      "4                             NaN   \n",
      "5                   Mike Flanagan   \n",
      "6   Robert Cullen, José Luis Ucha   \n",
      "7                    Haile Gerima   \n",
      "8                 Andy Devonshire   \n",
      "9                  Theodore Melfi   \n",
      "10                            NaN   \n",
      "\n",
      "                                                 cast  \\\n",
      "0                                                 NaN   \n",
      "1   Ama Qamata, Khosi Ngema, Gail Mabalane, Thaban...   \n",
      "2   Sami Bouajila, Tracy Gotoas, Samuel Jouy, Nabi...   \n",
      "3                                                 NaN   \n",
      "4   Mayur More, Jitendra Kumar, Ranjan Raj, Alam K...   \n",
      "5   Kate Siegel, Zach Gilford, Hamish Linklater, H...   \n",
      "6   Vanessa Hudgens, Kimiko Glenn, James Marsden, ...   \n",
      "7   Kofi Ghanaba, Oyafunmike Ogunlano, Alexandra D...   \n",
      "8   Mel Giedroyc, Sue Perkins, Mary Berry, Paul Ho...   \n",
      "9   Melissa McCarthy, Chris O'Dowd, Kevin Kline, T...   \n",
      "10                                                NaN   \n",
      "\n",
      "                                              country          date_added  \\\n",
      "0                                       United States  September 25, 2021   \n",
      "1                                        South Africa  September 24, 2021   \n",
      "2                                                 NaN  September 24, 2021   \n",
      "3                                                 NaN  September 24, 2021   \n",
      "4                                               India  September 24, 2021   \n",
      "5                                                 NaN  September 24, 2021   \n",
      "6                                                 NaN  September 24, 2021   \n",
      "7   United States, Ghana, Burkina Faso, United Kin...  September 24, 2021   \n",
      "8                                      United Kingdom  September 24, 2021   \n",
      "9                                       United States  September 24, 2021   \n",
      "10                                                NaN  September 24, 2021   \n",
      "\n",
      "    release_year rating   duration  \\\n",
      "0           2020  PG-13     90 min   \n",
      "1           2021  TV-MA  2 Seasons   \n",
      "2           2021  TV-MA   1 Season   \n",
      "3           2021  TV-MA   1 Season   \n",
      "4           2021  TV-MA  2 Seasons   \n",
      "5           2021  TV-MA   1 Season   \n",
      "6           2021     PG     91 min   \n",
      "7           1993  TV-MA    125 min   \n",
      "8           2021  TV-14  9 Seasons   \n",
      "9           2021  PG-13    104 min   \n",
      "10          2021  TV-MA   1 Season   \n",
      "\n",
      "                                            listed_in  \\\n",
      "0                                       Documentaries   \n",
      "1     International TV Shows, TV Dramas, TV Mysteries   \n",
      "2   Crime TV Shows, International TV Shows, TV Act...   \n",
      "3                              Docuseries, Reality TV   \n",
      "4   International TV Shows, Romantic TV Shows, TV ...   \n",
      "5                  TV Dramas, TV Horror, TV Mysteries   \n",
      "6                            Children & Family Movies   \n",
      "7    Dramas, Independent Movies, International Movies   \n",
      "8                        British TV Shows, Reality TV   \n",
      "9                                    Comedies, Dramas   \n",
      "10  Crime TV Shows, Docuseries, International TV S...   \n",
      "\n",
      "                                          description  \n",
      "0   As her father nears the end of his life, filmm...  \n",
      "1   After crossing paths at a party, a Cape Town t...  \n",
      "2   To protect his family from a powerful drug lor...  \n",
      "3   Feuds, flirtations and toilet talk go down amo...  \n",
      "4   In a city of coaching centers known to train I...  \n",
      "5   The arrival of a charismatic young priest brin...  \n",
      "6   Equestria's divided. But a bright-eyed hero be...  \n",
      "7   On a photo shoot in Ghana, an American model s...  \n",
      "8   A talented batch of amateur bakers face off in...  \n",
      "9   A woman adjusting to life after a loss contend...  \n",
      "10  Sicily boasts a bold \"Anti-Mafia\" coalition. B...  \n"
     ]
    }
   ],
   "source": [
    "print(df.head(11))\n",
    "#display data from first part"
   ]
  },
  {
   "cell_type": "code",
   "execution_count": 26,
   "id": "3595ea2e",
   "metadata": {},
   "outputs": [
    {
     "ename": "NameError",
     "evalue": "name 'pd' is not defined",
     "output_type": "error",
     "traceback": [
      "\u001b[31m---------------------------------------------------------------------------\u001b[39m",
      "\u001b[31mNameError\u001b[39m                                 Traceback (most recent call last)",
      "\u001b[36mCell\u001b[39m\u001b[36m \u001b[39m\u001b[32mIn[27]\u001b[39m\u001b[32m, line 1\u001b[39m\n\u001b[32m----> \u001b[39m\u001b[32m1\u001b[39m df = \u001b[43mpd\u001b[49m.read_csv(\u001b[33m'\u001b[39m\u001b[33mnetflix_titles_2021.csv\u001b[39m\u001b[33m'\u001b[39m)\n\u001b[32m      2\u001b[39m \u001b[38;5;28mprint\u001b[39m(df.tail(\u001b[32m11\u001b[39m))\n\u001b[32m      3\u001b[39m \u001b[38;5;66;03m#display the data from end part\u001b[39;00m\n",
      "\u001b[31mNameError\u001b[39m: name 'pd' is not defined"
     ]
    }
   ],
   "source": [
    "df = pd.read_csv('netflix_titles_2021.csv')\n",
    "print(df.tail(11))\n",
    "#display the data from end part"
   ]
  },
  {
   "cell_type": "code",
   "execution_count": null,
   "id": "cde67787",
   "metadata": {},
   "outputs": [
    {
     "name": "stdout",
     "output_type": "stream",
     "text": [
      "<class 'pandas.core.frame.DataFrame'>\n",
      "RangeIndex: 8807 entries, 0 to 8806\n",
      "Data columns (total 12 columns):\n",
      " #   Column        Non-Null Count  Dtype \n",
      "---  ------        --------------  ----- \n",
      " 0   show_id       8807 non-null   object\n",
      " 1   type          8807 non-null   object\n",
      " 2   title         8807 non-null   object\n",
      " 3   director      6173 non-null   object\n",
      " 4   cast          7982 non-null   object\n",
      " 5   country       7976 non-null   object\n",
      " 6   date_added    8797 non-null   object\n",
      " 7   release_year  8807 non-null   int64 \n",
      " 8   rating        8803 non-null   object\n",
      " 9   duration      8804 non-null   object\n",
      " 10  listed_in     8807 non-null   object\n",
      " 11  description   8807 non-null   object\n",
      "dtypes: int64(1), object(11)\n",
      "memory usage: 825.8+ KB\n",
      "None\n"
     ]
    }
   ],
   "source": [
    "print(df.info())\n",
    "#datatypes and non-null counts"
   ]
  },
  {
   "cell_type": "code",
   "execution_count": null,
   "id": "65f84687",
   "metadata": {},
   "outputs": [
    {
     "name": "stdout",
     "output_type": "stream",
     "text": [
      "(8807, 12)\n"
     ]
    }
   ],
   "source": [
    "print(df.shape)\n",
    "#rows and coloumns"
   ]
  },
  {
   "cell_type": "code",
   "execution_count": null,
   "id": "ae08fecd",
   "metadata": {},
   "outputs": [
    {
     "name": "stdout",
     "output_type": "stream",
     "text": [
      "Index(['show_id', 'type', 'title', 'director', 'cast', 'country', 'date_added',\n",
      "       'release_year', 'rating', 'duration', 'listed_in', 'description'],\n",
      "      dtype='object')\n"
     ]
    }
   ],
   "source": [
    "print(df.columns)\n",
    "#coloumn names"
   ]
  },
  {
   "cell_type": "code",
   "execution_count": null,
   "id": "69b0bb31",
   "metadata": {},
   "outputs": [
    {
     "name": "stdout",
     "output_type": "stream",
     "text": [
      "       release_year\n",
      "count   8807.000000\n",
      "mean    2014.180198\n",
      "std        8.819312\n",
      "min     1925.000000\n",
      "25%     2013.000000\n",
      "50%     2017.000000\n",
      "75%     2019.000000\n",
      "max     2021.000000\n"
     ]
    }
   ],
   "source": [
    "print(df.describe())\n",
    "#quickly checking missing values"
   ]
  },
  {
   "cell_type": "code",
   "execution_count": null,
   "id": "5fb85cfa",
   "metadata": {},
   "outputs": [
    {
     "name": "stdout",
     "output_type": "stream",
     "text": [
      "       show_id   type                 title       director  \\\n",
      "count     8807   8807                  8807           6173   \n",
      "unique    8807      2                  8807           4528   \n",
      "top         s1  Movie  Dick Johnson Is Dead  Rajiv Chilaka   \n",
      "freq         1   6131                     1             19   \n",
      "mean       NaN    NaN                   NaN            NaN   \n",
      "std        NaN    NaN                   NaN            NaN   \n",
      "min        NaN    NaN                   NaN            NaN   \n",
      "25%        NaN    NaN                   NaN            NaN   \n",
      "50%        NaN    NaN                   NaN            NaN   \n",
      "75%        NaN    NaN                   NaN            NaN   \n",
      "max        NaN    NaN                   NaN            NaN   \n",
      "\n",
      "                      cast        country       date_added  release_year  \\\n",
      "count                 7982           7976             8797   8807.000000   \n",
      "unique                7692            748             1767           NaN   \n",
      "top     David Attenborough  United States  January 1, 2020           NaN   \n",
      "freq                    19           2818              109           NaN   \n",
      "mean                   NaN            NaN              NaN   2014.180198   \n",
      "std                    NaN            NaN              NaN      8.819312   \n",
      "min                    NaN            NaN              NaN   1925.000000   \n",
      "25%                    NaN            NaN              NaN   2013.000000   \n",
      "50%                    NaN            NaN              NaN   2017.000000   \n",
      "75%                    NaN            NaN              NaN   2019.000000   \n",
      "max                    NaN            NaN              NaN   2021.000000   \n",
      "\n",
      "       rating  duration                     listed_in  \\\n",
      "count    8803      8804                          8807   \n",
      "unique     17       220                           514   \n",
      "top     TV-MA  1 Season  Dramas, International Movies   \n",
      "freq     3207      1793                           362   \n",
      "mean      NaN       NaN                           NaN   \n",
      "std       NaN       NaN                           NaN   \n",
      "min       NaN       NaN                           NaN   \n",
      "25%       NaN       NaN                           NaN   \n",
      "50%       NaN       NaN                           NaN   \n",
      "75%       NaN       NaN                           NaN   \n",
      "max       NaN       NaN                           NaN   \n",
      "\n",
      "                                              description  \n",
      "count                                                8807  \n",
      "unique                                               8775  \n",
      "top     Paranormal activity at a lush, abandoned prope...  \n",
      "freq                                                    4  \n",
      "mean                                                  NaN  \n",
      "std                                                   NaN  \n",
      "min                                                   NaN  \n",
      "25%                                                   NaN  \n",
      "50%                                                   NaN  \n",
      "75%                                                   NaN  \n",
      "max                                                   NaN  \n"
     ]
    }
   ],
   "source": [
    "print(df.describe(include='all'))\n",
    "#quickly checking whole missing values,data types"
   ]
  },
  {
   "cell_type": "code",
   "execution_count": null,
   "id": "651fc78b",
   "metadata": {},
   "outputs": [
    {
     "name": "stdout",
     "output_type": "stream",
     "text": [
      "show_id         object\n",
      "type            object\n",
      "title           object\n",
      "director        object\n",
      "cast            object\n",
      "country         object\n",
      "date_added      object\n",
      "release_year     int64\n",
      "rating          object\n",
      "duration        object\n",
      "listed_in       object\n",
      "description     object\n",
      "dtype: object\n"
     ]
    }
   ],
   "source": [
    "print(df.dtypes)\n",
    "#define data types"
   ]
  },
  {
   "cell_type": "code",
   "execution_count": null,
   "id": "7cf3cd1f",
   "metadata": {},
   "outputs": [
    {
     "name": "stdout",
     "output_type": "stream",
     "text": [
      "s3\n"
     ]
    }
   ],
   "source": [
    "print(df.loc[2,'show_id'])\n",
    "#it find location of data using index"
   ]
  },
  {
   "cell_type": "code",
   "execution_count": null,
   "id": "1eeebe13",
   "metadata": {},
   "outputs": [
    {
     "name": "stdout",
     "output_type": "stream",
     "text": [
      "Ganglands\n"
     ]
    }
   ],
   "source": [
    "print(df.loc[2,'title'])\n",
    "#it find location of data using index"
   ]
  },
  {
   "cell_type": "code",
   "execution_count": null,
   "id": "50bfc480",
   "metadata": {},
   "outputs": [
    {
     "name": "stdout",
     "output_type": "stream",
     "text": [
      "Vanessa Hudgens, Kimiko Glenn, James Marsden, Sofia Carson, Liza Koshy, Ken Jeong, Elizabeth Perkins, Jane Krakowski, Michael McKean, Phil LaMarr\n"
     ]
    }
   ],
   "source": [
    "print(df.iloc[6,4])\n",
    "#it find location of data using index by giving rows and coloumns"
   ]
  },
  {
   "cell_type": "markdown",
   "id": "c37ab6fc",
   "metadata": {},
   "source": [
    "CLEAN THE DATA"
   ]
  },
  {
   "cell_type": "code",
   "execution_count": null,
   "id": "eb83d7bc",
   "metadata": {},
   "outputs": [
    {
     "name": "stdout",
     "output_type": "stream",
     "text": [
      "     show_id     type                  title                 director  \\\n",
      "0         s1    Movie   Dick Johnson Is Dead          Kirsten Johnson   \n",
      "1         s2  TV Show          Blood & Water                      NaN   \n",
      "2         s3  TV Show              Ganglands          Julien Leclercq   \n",
      "3         s4  TV Show  Jailbirds New Orleans                      NaN   \n",
      "4         s5  TV Show           Kota Factory                      NaN   \n",
      "...      ...      ...                    ...                      ...   \n",
      "8798   s8799    Movie               Zed Plus  Chandra Prakash Dwivedi   \n",
      "8800   s8801  TV Show     Zindagi Gulzar Hai                      NaN   \n",
      "8801   s8802    Movie                Zinzana          Majid Al Ansari   \n",
      "8803   s8804  TV Show            Zombie Dumb                      NaN   \n",
      "8806   s8807    Movie                 Zubaan              Mozez Singh   \n",
      "\n",
      "                                                   cast  \\\n",
      "0                                                   NaN   \n",
      "1     Ama Qamata, Khosi Ngema, Gail Mabalane, Thaban...   \n",
      "2     Sami Bouajila, Tracy Gotoas, Samuel Jouy, Nabi...   \n",
      "3                                                   NaN   \n",
      "4     Mayur More, Jitendra Kumar, Ranjan Raj, Alam K...   \n",
      "...                                                 ...   \n",
      "8798  Adil Hussain, Mona Singh, K.K. Raina, Sanjay M...   \n",
      "8800  Sanam Saeed, Fawad Khan, Ayesha Omer, Mehreen ...   \n",
      "8801  Ali Suliman, Saleh Bakri, Yasa, Ali Al-Jabri, ...   \n",
      "8803                                                NaN   \n",
      "8806  Vicky Kaushal, Sarah-Jane Dias, Raaghav Chanan...   \n",
      "\n",
      "                           country          date_added  release_year rating  \\\n",
      "0                    United States  September 25, 2021          2020  PG-13   \n",
      "1                     South Africa  September 24, 2021          2021  TV-MA   \n",
      "2                              NaN  September 24, 2021          2021  TV-MA   \n",
      "3                              NaN  September 24, 2021          2021  TV-MA   \n",
      "4                            India  September 24, 2021          2021  TV-MA   \n",
      "...                            ...                 ...           ...    ...   \n",
      "8798                         India   December 31, 2019          2014  TV-MA   \n",
      "8800                      Pakistan   December 15, 2016          2012  TV-PG   \n",
      "8801  United Arab Emirates, Jordan       March 9, 2016          2015  TV-MA   \n",
      "8803                           NaN        July 1, 2019          2018  TV-Y7   \n",
      "8806                         India       March 2, 2019          2015  TV-14   \n",
      "\n",
      "       duration                                          listed_in  \\\n",
      "0        90 min                                      Documentaries   \n",
      "1     2 Seasons    International TV Shows, TV Dramas, TV Mysteries   \n",
      "2      1 Season  Crime TV Shows, International TV Shows, TV Act...   \n",
      "3      1 Season                             Docuseries, Reality TV   \n",
      "4     2 Seasons  International TV Shows, Romantic TV Shows, TV ...   \n",
      "...         ...                                                ...   \n",
      "8798    131 min             Comedies, Dramas, International Movies   \n",
      "8800   1 Season  International TV Shows, Romantic TV Shows, TV ...   \n",
      "8801     96 min            Dramas, International Movies, Thrillers   \n",
      "8803  2 Seasons             Kids' TV, Korean TV Shows, TV Comedies   \n",
      "8806    111 min     Dramas, International Movies, Music & Musicals   \n",
      "\n",
      "                                            description  \n",
      "0     As her father nears the end of his life, filmm...  \n",
      "1     After crossing paths at a party, a Cape Town t...  \n",
      "2     To protect his family from a powerful drug lor...  \n",
      "3     Feuds, flirtations and toilet talk go down amo...  \n",
      "4     In a city of coaching centers known to train I...  \n",
      "...                                                 ...  \n",
      "8798  A philandering small-town mechanic's political...  \n",
      "8800  Strong-willed, middle-class Kashaf and carefre...  \n",
      "8801  Recovering alcoholic Talal wakes up inside a s...  \n",
      "8803  While living alone in a spooky town, a young g...  \n",
      "8806  A scrappy but poor boy worms his way into a ty...  \n",
      "\n",
      "[7278 rows x 12 columns]\n"
     ]
    }
   ],
   "source": [
    "filtered_df=df[df['release_year']> 2010]\n",
    "print(filtered_df)\n",
    "#filter the data from given data set"
   ]
  },
  {
   "cell_type": "code",
   "execution_count": null,
   "id": "b17201ee",
   "metadata": {},
   "outputs": [],
   "source": [
    "df['release_year'] = df['release_year'].fillna(df['release_year'].mean())\n",
    "#fill the missing  values"
   ]
  },
  {
   "cell_type": "code",
   "execution_count": null,
   "id": "64a39542",
   "metadata": {},
   "outputs": [
    {
     "data": {
      "text/html": [
       "<div>\n",
       "<style scoped>\n",
       "    .dataframe tbody tr th:only-of-type {\n",
       "        vertical-align: middle;\n",
       "    }\n",
       "\n",
       "    .dataframe tbody tr th {\n",
       "        vertical-align: top;\n",
       "    }\n",
       "\n",
       "    .dataframe thead th {\n",
       "        text-align: right;\n",
       "    }\n",
       "</style>\n",
       "<table border=\"1\" class=\"dataframe\">\n",
       "  <thead>\n",
       "    <tr style=\"text-align: right;\">\n",
       "      <th></th>\n",
       "      <th>show_id</th>\n",
       "      <th>type</th>\n",
       "      <th>title</th>\n",
       "      <th>director</th>\n",
       "      <th>cast</th>\n",
       "      <th>country</th>\n",
       "      <th>date_added</th>\n",
       "      <th>release_year</th>\n",
       "      <th>rating</th>\n",
       "      <th>duration</th>\n",
       "      <th>listed_in</th>\n",
       "      <th>description</th>\n",
       "    </tr>\n",
       "  </thead>\n",
       "  <tbody>\n",
       "    <tr>\n",
       "      <th>7</th>\n",
       "      <td>s8</td>\n",
       "      <td>Movie</td>\n",
       "      <td>Sankofa</td>\n",
       "      <td>Haile Gerima</td>\n",
       "      <td>Kofi Ghanaba, Oyafunmike Ogunlano, Alexandra D...</td>\n",
       "      <td>United States, Ghana, Burkina Faso, United Kin...</td>\n",
       "      <td>September 24, 2021</td>\n",
       "      <td>1993</td>\n",
       "      <td>TV-MA</td>\n",
       "      <td>125 min</td>\n",
       "      <td>Dramas, Independent Movies, International Movies</td>\n",
       "      <td>On a photo shoot in Ghana, an American model s...</td>\n",
       "    </tr>\n",
       "    <tr>\n",
       "      <th>8</th>\n",
       "      <td>s9</td>\n",
       "      <td>TV Show</td>\n",
       "      <td>The Great British Baking Show</td>\n",
       "      <td>Andy Devonshire</td>\n",
       "      <td>Mel Giedroyc, Sue Perkins, Mary Berry, Paul Ho...</td>\n",
       "      <td>United Kingdom</td>\n",
       "      <td>September 24, 2021</td>\n",
       "      <td>2021</td>\n",
       "      <td>TV-14</td>\n",
       "      <td>9 Seasons</td>\n",
       "      <td>British TV Shows, Reality TV</td>\n",
       "      <td>A talented batch of amateur bakers face off in...</td>\n",
       "    </tr>\n",
       "    <tr>\n",
       "      <th>9</th>\n",
       "      <td>s10</td>\n",
       "      <td>Movie</td>\n",
       "      <td>The Starling</td>\n",
       "      <td>Theodore Melfi</td>\n",
       "      <td>Melissa McCarthy, Chris O'Dowd, Kevin Kline, T...</td>\n",
       "      <td>United States</td>\n",
       "      <td>September 24, 2021</td>\n",
       "      <td>2021</td>\n",
       "      <td>PG-13</td>\n",
       "      <td>104 min</td>\n",
       "      <td>Comedies, Dramas</td>\n",
       "      <td>A woman adjusting to life after a loss contend...</td>\n",
       "    </tr>\n",
       "    <tr>\n",
       "      <th>12</th>\n",
       "      <td>s13</td>\n",
       "      <td>Movie</td>\n",
       "      <td>Je Suis Karl</td>\n",
       "      <td>Christian Schwochow</td>\n",
       "      <td>Luna Wedler, Jannis Niewöhner, Milan Peschel, ...</td>\n",
       "      <td>Germany, Czech Republic</td>\n",
       "      <td>September 23, 2021</td>\n",
       "      <td>2021</td>\n",
       "      <td>TV-MA</td>\n",
       "      <td>127 min</td>\n",
       "      <td>Dramas, International Movies</td>\n",
       "      <td>After most of her family is murdered in a terr...</td>\n",
       "    </tr>\n",
       "    <tr>\n",
       "      <th>24</th>\n",
       "      <td>s25</td>\n",
       "      <td>Movie</td>\n",
       "      <td>Jeans</td>\n",
       "      <td>S. Shankar</td>\n",
       "      <td>Prashanth, Aishwarya Rai Bachchan, Sri Lakshmi...</td>\n",
       "      <td>India</td>\n",
       "      <td>September 21, 2021</td>\n",
       "      <td>1998</td>\n",
       "      <td>TV-14</td>\n",
       "      <td>166 min</td>\n",
       "      <td>Comedies, International Movies, Romantic Movies</td>\n",
       "      <td>When the father of the man she loves insists t...</td>\n",
       "    </tr>\n",
       "    <tr>\n",
       "      <th>...</th>\n",
       "      <td>...</td>\n",
       "      <td>...</td>\n",
       "      <td>...</td>\n",
       "      <td>...</td>\n",
       "      <td>...</td>\n",
       "      <td>...</td>\n",
       "      <td>...</td>\n",
       "      <td>...</td>\n",
       "      <td>...</td>\n",
       "      <td>...</td>\n",
       "      <td>...</td>\n",
       "      <td>...</td>\n",
       "    </tr>\n",
       "    <tr>\n",
       "      <th>8801</th>\n",
       "      <td>s8802</td>\n",
       "      <td>Movie</td>\n",
       "      <td>Zinzana</td>\n",
       "      <td>Majid Al Ansari</td>\n",
       "      <td>Ali Suliman, Saleh Bakri, Yasa, Ali Al-Jabri, ...</td>\n",
       "      <td>United Arab Emirates, Jordan</td>\n",
       "      <td>March 9, 2016</td>\n",
       "      <td>2015</td>\n",
       "      <td>TV-MA</td>\n",
       "      <td>96 min</td>\n",
       "      <td>Dramas, International Movies, Thrillers</td>\n",
       "      <td>Recovering alcoholic Talal wakes up inside a s...</td>\n",
       "    </tr>\n",
       "    <tr>\n",
       "      <th>8802</th>\n",
       "      <td>s8803</td>\n",
       "      <td>Movie</td>\n",
       "      <td>Zodiac</td>\n",
       "      <td>David Fincher</td>\n",
       "      <td>Mark Ruffalo, Jake Gyllenhaal, Robert Downey J...</td>\n",
       "      <td>United States</td>\n",
       "      <td>November 20, 2019</td>\n",
       "      <td>2007</td>\n",
       "      <td>R</td>\n",
       "      <td>158 min</td>\n",
       "      <td>Cult Movies, Dramas, Thrillers</td>\n",
       "      <td>A political cartoonist, a crime reporter and a...</td>\n",
       "    </tr>\n",
       "    <tr>\n",
       "      <th>8804</th>\n",
       "      <td>s8805</td>\n",
       "      <td>Movie</td>\n",
       "      <td>Zombieland</td>\n",
       "      <td>Ruben Fleischer</td>\n",
       "      <td>Jesse Eisenberg, Woody Harrelson, Emma Stone, ...</td>\n",
       "      <td>United States</td>\n",
       "      <td>November 1, 2019</td>\n",
       "      <td>2009</td>\n",
       "      <td>R</td>\n",
       "      <td>88 min</td>\n",
       "      <td>Comedies, Horror Movies</td>\n",
       "      <td>Looking to survive in a world taken over by zo...</td>\n",
       "    </tr>\n",
       "    <tr>\n",
       "      <th>8805</th>\n",
       "      <td>s8806</td>\n",
       "      <td>Movie</td>\n",
       "      <td>Zoom</td>\n",
       "      <td>Peter Hewitt</td>\n",
       "      <td>Tim Allen, Courteney Cox, Chevy Chase, Kate Ma...</td>\n",
       "      <td>United States</td>\n",
       "      <td>January 11, 2020</td>\n",
       "      <td>2006</td>\n",
       "      <td>PG</td>\n",
       "      <td>88 min</td>\n",
       "      <td>Children &amp; Family Movies, Comedies</td>\n",
       "      <td>Dragged from civilian life, a former superhero...</td>\n",
       "    </tr>\n",
       "    <tr>\n",
       "      <th>8806</th>\n",
       "      <td>s8807</td>\n",
       "      <td>Movie</td>\n",
       "      <td>Zubaan</td>\n",
       "      <td>Mozez Singh</td>\n",
       "      <td>Vicky Kaushal, Sarah-Jane Dias, Raaghav Chanan...</td>\n",
       "      <td>India</td>\n",
       "      <td>March 2, 2019</td>\n",
       "      <td>2015</td>\n",
       "      <td>TV-14</td>\n",
       "      <td>111 min</td>\n",
       "      <td>Dramas, International Movies, Music &amp; Musicals</td>\n",
       "      <td>A scrappy but poor boy worms his way into a ty...</td>\n",
       "    </tr>\n",
       "  </tbody>\n",
       "</table>\n",
       "<p>5332 rows × 12 columns</p>\n",
       "</div>"
      ],
      "text/plain": [
       "     show_id     type                          title             director  \\\n",
       "7         s8    Movie                        Sankofa         Haile Gerima   \n",
       "8         s9  TV Show  The Great British Baking Show      Andy Devonshire   \n",
       "9        s10    Movie                   The Starling       Theodore Melfi   \n",
       "12       s13    Movie                   Je Suis Karl  Christian Schwochow   \n",
       "24       s25    Movie                          Jeans           S. Shankar   \n",
       "...      ...      ...                            ...                  ...   \n",
       "8801   s8802    Movie                        Zinzana      Majid Al Ansari   \n",
       "8802   s8803    Movie                         Zodiac        David Fincher   \n",
       "8804   s8805    Movie                     Zombieland      Ruben Fleischer   \n",
       "8805   s8806    Movie                           Zoom         Peter Hewitt   \n",
       "8806   s8807    Movie                         Zubaan          Mozez Singh   \n",
       "\n",
       "                                                   cast  \\\n",
       "7     Kofi Ghanaba, Oyafunmike Ogunlano, Alexandra D...   \n",
       "8     Mel Giedroyc, Sue Perkins, Mary Berry, Paul Ho...   \n",
       "9     Melissa McCarthy, Chris O'Dowd, Kevin Kline, T...   \n",
       "12    Luna Wedler, Jannis Niewöhner, Milan Peschel, ...   \n",
       "24    Prashanth, Aishwarya Rai Bachchan, Sri Lakshmi...   \n",
       "...                                                 ...   \n",
       "8801  Ali Suliman, Saleh Bakri, Yasa, Ali Al-Jabri, ...   \n",
       "8802  Mark Ruffalo, Jake Gyllenhaal, Robert Downey J...   \n",
       "8804  Jesse Eisenberg, Woody Harrelson, Emma Stone, ...   \n",
       "8805  Tim Allen, Courteney Cox, Chevy Chase, Kate Ma...   \n",
       "8806  Vicky Kaushal, Sarah-Jane Dias, Raaghav Chanan...   \n",
       "\n",
       "                                                country          date_added  \\\n",
       "7     United States, Ghana, Burkina Faso, United Kin...  September 24, 2021   \n",
       "8                                        United Kingdom  September 24, 2021   \n",
       "9                                         United States  September 24, 2021   \n",
       "12                              Germany, Czech Republic  September 23, 2021   \n",
       "24                                                India  September 21, 2021   \n",
       "...                                                 ...                 ...   \n",
       "8801                       United Arab Emirates, Jordan       March 9, 2016   \n",
       "8802                                      United States   November 20, 2019   \n",
       "8804                                      United States    November 1, 2019   \n",
       "8805                                      United States    January 11, 2020   \n",
       "8806                                              India       March 2, 2019   \n",
       "\n",
       "      release_year rating   duration  \\\n",
       "7             1993  TV-MA    125 min   \n",
       "8             2021  TV-14  9 Seasons   \n",
       "9             2021  PG-13    104 min   \n",
       "12            2021  TV-MA    127 min   \n",
       "24            1998  TV-14    166 min   \n",
       "...            ...    ...        ...   \n",
       "8801          2015  TV-MA     96 min   \n",
       "8802          2007      R    158 min   \n",
       "8804          2009      R     88 min   \n",
       "8805          2006     PG     88 min   \n",
       "8806          2015  TV-14    111 min   \n",
       "\n",
       "                                             listed_in  \\\n",
       "7     Dramas, Independent Movies, International Movies   \n",
       "8                         British TV Shows, Reality TV   \n",
       "9                                     Comedies, Dramas   \n",
       "12                        Dramas, International Movies   \n",
       "24     Comedies, International Movies, Romantic Movies   \n",
       "...                                                ...   \n",
       "8801           Dramas, International Movies, Thrillers   \n",
       "8802                    Cult Movies, Dramas, Thrillers   \n",
       "8804                           Comedies, Horror Movies   \n",
       "8805                Children & Family Movies, Comedies   \n",
       "8806    Dramas, International Movies, Music & Musicals   \n",
       "\n",
       "                                            description  \n",
       "7     On a photo shoot in Ghana, an American model s...  \n",
       "8     A talented batch of amateur bakers face off in...  \n",
       "9     A woman adjusting to life after a loss contend...  \n",
       "12    After most of her family is murdered in a terr...  \n",
       "24    When the father of the man she loves insists t...  \n",
       "...                                                 ...  \n",
       "8801  Recovering alcoholic Talal wakes up inside a s...  \n",
       "8802  A political cartoonist, a crime reporter and a...  \n",
       "8804  Looking to survive in a world taken over by zo...  \n",
       "8805  Dragged from civilian life, a former superhero...  \n",
       "8806  A scrappy but poor boy worms his way into a ty...  \n",
       "\n",
       "[5332 rows x 12 columns]"
      ]
     },
     "execution_count": 57,
     "metadata": {},
     "output_type": "execute_result"
    }
   ],
   "source": [
    "df.dropna()\n",
    "#drop rows with NaN values\n"
   ]
  },
  {
   "cell_type": "code",
   "execution_count": null,
   "id": "fa6e9411",
   "metadata": {},
   "outputs": [
    {
     "data": {
      "text/html": [
       "<div>\n",
       "<style scoped>\n",
       "    .dataframe tbody tr th:only-of-type {\n",
       "        vertical-align: middle;\n",
       "    }\n",
       "\n",
       "    .dataframe tbody tr th {\n",
       "        vertical-align: top;\n",
       "    }\n",
       "\n",
       "    .dataframe thead th {\n",
       "        text-align: right;\n",
       "    }\n",
       "</style>\n",
       "<table border=\"1\" class=\"dataframe\">\n",
       "  <thead>\n",
       "    <tr style=\"text-align: right;\">\n",
       "      <th></th>\n",
       "      <th>show_id</th>\n",
       "      <th>type</th>\n",
       "      <th>title</th>\n",
       "      <th>director</th>\n",
       "      <th>cast</th>\n",
       "      <th>country</th>\n",
       "      <th>date_added</th>\n",
       "      <th>release_year</th>\n",
       "      <th>rating</th>\n",
       "      <th>duration</th>\n",
       "      <th>listed_in</th>\n",
       "      <th>description</th>\n",
       "    </tr>\n",
       "  </thead>\n",
       "  <tbody>\n",
       "    <tr>\n",
       "      <th>0</th>\n",
       "      <td>s1</td>\n",
       "      <td>Movie</td>\n",
       "      <td>Dick Johnson Is Dead</td>\n",
       "      <td>Kirsten Johnson</td>\n",
       "      <td>NaN</td>\n",
       "      <td>United States</td>\n",
       "      <td>September 25, 2021</td>\n",
       "      <td>2020</td>\n",
       "      <td>PG-13</td>\n",
       "      <td>90 min</td>\n",
       "      <td>Documentaries</td>\n",
       "      <td>As her father nears the end of his life, filmm...</td>\n",
       "    </tr>\n",
       "    <tr>\n",
       "      <th>1</th>\n",
       "      <td>s2</td>\n",
       "      <td>TV Show</td>\n",
       "      <td>Blood &amp; Water</td>\n",
       "      <td>NaN</td>\n",
       "      <td>Ama Qamata, Khosi Ngema, Gail Mabalane, Thaban...</td>\n",
       "      <td>South Africa</td>\n",
       "      <td>September 24, 2021</td>\n",
       "      <td>2021</td>\n",
       "      <td>TV-MA</td>\n",
       "      <td>2 Seasons</td>\n",
       "      <td>International TV Shows, TV Dramas, TV Mysteries</td>\n",
       "      <td>After crossing paths at a party, a Cape Town t...</td>\n",
       "    </tr>\n",
       "    <tr>\n",
       "      <th>2</th>\n",
       "      <td>s3</td>\n",
       "      <td>TV Show</td>\n",
       "      <td>Ganglands</td>\n",
       "      <td>Julien Leclercq</td>\n",
       "      <td>Sami Bouajila, Tracy Gotoas, Samuel Jouy, Nabi...</td>\n",
       "      <td>NaN</td>\n",
       "      <td>September 24, 2021</td>\n",
       "      <td>2021</td>\n",
       "      <td>TV-MA</td>\n",
       "      <td>1 Season</td>\n",
       "      <td>Crime TV Shows, International TV Shows, TV Act...</td>\n",
       "      <td>To protect his family from a powerful drug lor...</td>\n",
       "    </tr>\n",
       "    <tr>\n",
       "      <th>3</th>\n",
       "      <td>s4</td>\n",
       "      <td>TV Show</td>\n",
       "      <td>Jailbirds New Orleans</td>\n",
       "      <td>NaN</td>\n",
       "      <td>NaN</td>\n",
       "      <td>NaN</td>\n",
       "      <td>September 24, 2021</td>\n",
       "      <td>2021</td>\n",
       "      <td>TV-MA</td>\n",
       "      <td>1 Season</td>\n",
       "      <td>Docuseries, Reality TV</td>\n",
       "      <td>Feuds, flirtations and toilet talk go down amo...</td>\n",
       "    </tr>\n",
       "    <tr>\n",
       "      <th>4</th>\n",
       "      <td>s5</td>\n",
       "      <td>TV Show</td>\n",
       "      <td>Kota Factory</td>\n",
       "      <td>NaN</td>\n",
       "      <td>Mayur More, Jitendra Kumar, Ranjan Raj, Alam K...</td>\n",
       "      <td>India</td>\n",
       "      <td>September 24, 2021</td>\n",
       "      <td>2021</td>\n",
       "      <td>TV-MA</td>\n",
       "      <td>2 Seasons</td>\n",
       "      <td>International TV Shows, Romantic TV Shows, TV ...</td>\n",
       "      <td>In a city of coaching centers known to train I...</td>\n",
       "    </tr>\n",
       "    <tr>\n",
       "      <th>...</th>\n",
       "      <td>...</td>\n",
       "      <td>...</td>\n",
       "      <td>...</td>\n",
       "      <td>...</td>\n",
       "      <td>...</td>\n",
       "      <td>...</td>\n",
       "      <td>...</td>\n",
       "      <td>...</td>\n",
       "      <td>...</td>\n",
       "      <td>...</td>\n",
       "      <td>...</td>\n",
       "      <td>...</td>\n",
       "    </tr>\n",
       "    <tr>\n",
       "      <th>8802</th>\n",
       "      <td>s8803</td>\n",
       "      <td>Movie</td>\n",
       "      <td>Zodiac</td>\n",
       "      <td>David Fincher</td>\n",
       "      <td>Mark Ruffalo, Jake Gyllenhaal, Robert Downey J...</td>\n",
       "      <td>United States</td>\n",
       "      <td>November 20, 2019</td>\n",
       "      <td>2007</td>\n",
       "      <td>R</td>\n",
       "      <td>158 min</td>\n",
       "      <td>Cult Movies, Dramas, Thrillers</td>\n",
       "      <td>A political cartoonist, a crime reporter and a...</td>\n",
       "    </tr>\n",
       "    <tr>\n",
       "      <th>8803</th>\n",
       "      <td>s8804</td>\n",
       "      <td>TV Show</td>\n",
       "      <td>Zombie Dumb</td>\n",
       "      <td>NaN</td>\n",
       "      <td>NaN</td>\n",
       "      <td>NaN</td>\n",
       "      <td>July 1, 2019</td>\n",
       "      <td>2018</td>\n",
       "      <td>TV-Y7</td>\n",
       "      <td>2 Seasons</td>\n",
       "      <td>Kids' TV, Korean TV Shows, TV Comedies</td>\n",
       "      <td>While living alone in a spooky town, a young g...</td>\n",
       "    </tr>\n",
       "    <tr>\n",
       "      <th>8804</th>\n",
       "      <td>s8805</td>\n",
       "      <td>Movie</td>\n",
       "      <td>Zombieland</td>\n",
       "      <td>Ruben Fleischer</td>\n",
       "      <td>Jesse Eisenberg, Woody Harrelson, Emma Stone, ...</td>\n",
       "      <td>United States</td>\n",
       "      <td>November 1, 2019</td>\n",
       "      <td>2009</td>\n",
       "      <td>R</td>\n",
       "      <td>88 min</td>\n",
       "      <td>Comedies, Horror Movies</td>\n",
       "      <td>Looking to survive in a world taken over by zo...</td>\n",
       "    </tr>\n",
       "    <tr>\n",
       "      <th>8805</th>\n",
       "      <td>s8806</td>\n",
       "      <td>Movie</td>\n",
       "      <td>Zoom</td>\n",
       "      <td>Peter Hewitt</td>\n",
       "      <td>Tim Allen, Courteney Cox, Chevy Chase, Kate Ma...</td>\n",
       "      <td>United States</td>\n",
       "      <td>January 11, 2020</td>\n",
       "      <td>2006</td>\n",
       "      <td>PG</td>\n",
       "      <td>88 min</td>\n",
       "      <td>Children &amp; Family Movies, Comedies</td>\n",
       "      <td>Dragged from civilian life, a former superhero...</td>\n",
       "    </tr>\n",
       "    <tr>\n",
       "      <th>8806</th>\n",
       "      <td>s8807</td>\n",
       "      <td>Movie</td>\n",
       "      <td>Zubaan</td>\n",
       "      <td>Mozez Singh</td>\n",
       "      <td>Vicky Kaushal, Sarah-Jane Dias, Raaghav Chanan...</td>\n",
       "      <td>India</td>\n",
       "      <td>March 2, 2019</td>\n",
       "      <td>2015</td>\n",
       "      <td>TV-14</td>\n",
       "      <td>111 min</td>\n",
       "      <td>Dramas, International Movies, Music &amp; Musicals</td>\n",
       "      <td>A scrappy but poor boy worms his way into a ty...</td>\n",
       "    </tr>\n",
       "  </tbody>\n",
       "</table>\n",
       "<p>8807 rows × 12 columns</p>\n",
       "</div>"
      ],
      "text/plain": [
       "     show_id     type                  title         director  \\\n",
       "0         s1    Movie   Dick Johnson Is Dead  Kirsten Johnson   \n",
       "1         s2  TV Show          Blood & Water              NaN   \n",
       "2         s3  TV Show              Ganglands  Julien Leclercq   \n",
       "3         s4  TV Show  Jailbirds New Orleans              NaN   \n",
       "4         s5  TV Show           Kota Factory              NaN   \n",
       "...      ...      ...                    ...              ...   \n",
       "8802   s8803    Movie                 Zodiac    David Fincher   \n",
       "8803   s8804  TV Show            Zombie Dumb              NaN   \n",
       "8804   s8805    Movie             Zombieland  Ruben Fleischer   \n",
       "8805   s8806    Movie                   Zoom     Peter Hewitt   \n",
       "8806   s8807    Movie                 Zubaan      Mozez Singh   \n",
       "\n",
       "                                                   cast        country  \\\n",
       "0                                                   NaN  United States   \n",
       "1     Ama Qamata, Khosi Ngema, Gail Mabalane, Thaban...   South Africa   \n",
       "2     Sami Bouajila, Tracy Gotoas, Samuel Jouy, Nabi...            NaN   \n",
       "3                                                   NaN            NaN   \n",
       "4     Mayur More, Jitendra Kumar, Ranjan Raj, Alam K...          India   \n",
       "...                                                 ...            ...   \n",
       "8802  Mark Ruffalo, Jake Gyllenhaal, Robert Downey J...  United States   \n",
       "8803                                                NaN            NaN   \n",
       "8804  Jesse Eisenberg, Woody Harrelson, Emma Stone, ...  United States   \n",
       "8805  Tim Allen, Courteney Cox, Chevy Chase, Kate Ma...  United States   \n",
       "8806  Vicky Kaushal, Sarah-Jane Dias, Raaghav Chanan...          India   \n",
       "\n",
       "              date_added  release_year rating   duration  \\\n",
       "0     September 25, 2021          2020  PG-13     90 min   \n",
       "1     September 24, 2021          2021  TV-MA  2 Seasons   \n",
       "2     September 24, 2021          2021  TV-MA   1 Season   \n",
       "3     September 24, 2021          2021  TV-MA   1 Season   \n",
       "4     September 24, 2021          2021  TV-MA  2 Seasons   \n",
       "...                  ...           ...    ...        ...   \n",
       "8802   November 20, 2019          2007      R    158 min   \n",
       "8803        July 1, 2019          2018  TV-Y7  2 Seasons   \n",
       "8804    November 1, 2019          2009      R     88 min   \n",
       "8805    January 11, 2020          2006     PG     88 min   \n",
       "8806       March 2, 2019          2015  TV-14    111 min   \n",
       "\n",
       "                                              listed_in  \\\n",
       "0                                         Documentaries   \n",
       "1       International TV Shows, TV Dramas, TV Mysteries   \n",
       "2     Crime TV Shows, International TV Shows, TV Act...   \n",
       "3                                Docuseries, Reality TV   \n",
       "4     International TV Shows, Romantic TV Shows, TV ...   \n",
       "...                                                 ...   \n",
       "8802                     Cult Movies, Dramas, Thrillers   \n",
       "8803             Kids' TV, Korean TV Shows, TV Comedies   \n",
       "8804                            Comedies, Horror Movies   \n",
       "8805                 Children & Family Movies, Comedies   \n",
       "8806     Dramas, International Movies, Music & Musicals   \n",
       "\n",
       "                                            description  \n",
       "0     As her father nears the end of his life, filmm...  \n",
       "1     After crossing paths at a party, a Cape Town t...  \n",
       "2     To protect his family from a powerful drug lor...  \n",
       "3     Feuds, flirtations and toilet talk go down amo...  \n",
       "4     In a city of coaching centers known to train I...  \n",
       "...                                                 ...  \n",
       "8802  A political cartoonist, a crime reporter and a...  \n",
       "8803  While living alone in a spooky town, a young g...  \n",
       "8804  Looking to survive in a world taken over by zo...  \n",
       "8805  Dragged from civilian life, a former superhero...  \n",
       "8806  A scrappy but poor boy worms his way into a ty...  \n",
       "\n",
       "[8807 rows x 12 columns]"
      ]
     },
     "execution_count": 58,
     "metadata": {},
     "output_type": "execute_result"
    }
   ],
   "source": [
    "df.drop_duplicates() \n",
    "#drops duplicates values\n"
   ]
  },
  {
   "cell_type": "code",
   "execution_count": null,
   "id": "940fc2b5",
   "metadata": {},
   "outputs": [],
   "source": [
    "df['release_year'] = df['release_year'].astype(int)\n",
    "#it will covert string to integer or vise verca"
   ]
  },
  {
   "cell_type": "code",
   "execution_count": null,
   "id": "8d87ebaf",
   "metadata": {},
   "outputs": [
    {
     "data": {
      "text/plain": [
       "0                                           United States\n",
       "1                                            South Africa\n",
       "7       United States, Ghana, Burkina Faso, United Kin...\n",
       "21                                                 Turkey\n",
       "22                                                Unknown\n",
       "                              ...                        \n",
       "7790                                        United States\n",
       "7839                                        United States\n",
       "8419                                        United States\n",
       "8587                                        United States\n",
       "8660                                        United States\n",
       "Name: country, Length: 74, dtype: object"
      ]
     },
     "execution_count": 66,
     "metadata": {},
     "output_type": "execute_result"
    }
   ],
   "source": [
    "df['country'].fillna('Unknown')\n",
    "#fill the missing values of specific values"
   ]
  },
  {
   "cell_type": "code",
   "execution_count": 67,
   "id": "981eb424",
   "metadata": {},
   "outputs": [
    {
     "data": {
      "text/plain": [
       "0                   Kirsten Johnson\n",
       "1                     Not Available\n",
       "7                      Haile Gerima\n",
       "21                    Not Available\n",
       "22                   K.S. Ravikumar\n",
       "                   ...             \n",
       "7790                    Frank Capra\n",
       "7839                   Nicholas Ray\n",
       "8419                  William Wyler\n",
       "8587    William Wyler, John Sturges\n",
       "8660                      John Ford\n",
       "Name: director, Length: 74, dtype: object"
      ]
     },
     "execution_count": 67,
     "metadata": {},
     "output_type": "execute_result"
    }
   ],
   "source": [
    "df['director'].fillna('Not Available')"
   ]
  },
  {
   "cell_type": "code",
   "execution_count": 89,
   "id": "43c79e62",
   "metadata": {},
   "outputs": [
    {
     "data": {
      "text/plain": [
       "0                                           Not Available\n",
       "1       Ama Qamata, Khosi Ngema, Gail Mabalane, Thaban...\n",
       "7       Kofi Ghanaba, Oyafunmike Ogunlano, Alexandra D...\n",
       "21      Engin Altan Düzyatan, Serdar Gökhan, Hülya Dar...\n",
       "22      Kamal Hassan, Meena, Gemini Ganesan, Heera Raj...\n",
       "                              ...                        \n",
       "7790                                        Not Available\n",
       "7839    James Dean, Natalie Wood, Sal Mineo, Jim Backu...\n",
       "8419                                        Not Available\n",
       "8587                         James Stewart, Lloyd Bridges\n",
       "8660                                        Not Available\n",
       "Name: cast, Length: 74, dtype: object"
      ]
     },
     "execution_count": 89,
     "metadata": {},
     "output_type": "execute_result"
    }
   ],
   "source": [
    "df['cast'].fillna('Not Available')"
   ]
  },
  {
   "cell_type": "code",
   "execution_count": 69,
   "id": "3e01deb8",
   "metadata": {},
   "outputs": [
    {
     "data": {
      "text/plain": [
       "0       PG-13\n",
       "1       TV-MA\n",
       "7       TV-MA\n",
       "21      TV-14\n",
       "22      TV-PG\n",
       "        ...  \n",
       "7790    TV-14\n",
       "7839    PG-13\n",
       "8419    TV-PG\n",
       "8587    TV-PG\n",
       "8660    TV-PG\n",
       "Name: rating, Length: 74, dtype: object"
      ]
     },
     "execution_count": 69,
     "metadata": {},
     "output_type": "execute_result"
    }
   ],
   "source": [
    "df['rating'].fillna('Not Rated')"
   ]
  },
  {
   "cell_type": "code",
   "execution_count": 111,
   "id": "a6f72d85",
   "metadata": {},
   "outputs": [
    {
     "name": "stdout",
     "output_type": "stream",
     "text": [
      "  show_id     type                  title         director  \\\n",
      "0      s1    Movie   Dick Johnson Is Dead  Kirsten Johnson   \n",
      "1      s2  TV Show          Blood & Water              NaN   \n",
      "2      s3  TV Show              Ganglands  Julien Leclercq   \n",
      "3      s4  TV Show  Jailbirds New Orleans              NaN   \n",
      "4      s5  TV Show           Kota Factory              NaN   \n",
      "\n",
      "                                                cast        country  \\\n",
      "0                                                NaN  United States   \n",
      "1  Ama Qamata, Khosi Ngema, Gail Mabalane, Thaban...   South Africa   \n",
      "2  Sami Bouajila, Tracy Gotoas, Samuel Jouy, Nabi...            NaN   \n",
      "3                                                NaN            NaN   \n",
      "4  Mayur More, Jitendra Kumar, Ranjan Raj, Alam K...          India   \n",
      "\n",
      "           date_added  release_year rating   duration  \\\n",
      "0  September 25, 2021          2020  PG-13     90 min   \n",
      "1  September 24, 2021          2021  TV-MA  2 Seasons   \n",
      "2  September 24, 2021          2021  TV-MA   1 Season   \n",
      "3  September 24, 2021          2021  TV-MA   1 Season   \n",
      "4  September 24, 2021          2021  TV-MA  2 Seasons   \n",
      "\n",
      "                                           listed_in  \\\n",
      "0                                      Documentaries   \n",
      "1    International TV Shows, TV Dramas, TV Mysteries   \n",
      "2  Crime TV Shows, International TV Shows, TV Act...   \n",
      "3                             Docuseries, Reality TV   \n",
      "4  International TV Shows, Romantic TV Shows, TV ...   \n",
      "\n",
      "                                         description    Views  \n",
      "0  As her father nears the end of his life, filmm...  1000000  \n",
      "1  After crossing paths at a party, a Cape Town t...  2500000  \n",
      "2  To protect his family from a powerful drug lor...  1500000  \n",
      "3  Feuds, flirtations and toilet talk go down amo...   800000  \n",
      "4  In a city of coaching centers known to train I...  3000000  \n"
     ]
    }
   ],
   "source": [
    "import pandas as pd\n",
    "\n",
    "# Load the Netflix data\n",
    "df = pd.read_csv(\"netflix_titles_2021.csv\")\n",
    "\n",
    "# Create a new Views column for the first 5 rows\n",
    "views = pd.DataFrame({'Views': [1000000, 2500000, 1500000, 800000, 3000000]})\n",
    "\n",
    "# Join both DataFrames side by side\n",
    "result = pd.concat([df.head(5), views], axis=1)\n",
    "\n",
    "# Show the result\n",
    "print(result)"
   ]
  },
  {
   "cell_type": "code",
   "execution_count": null,
   "id": "5ee67388",
   "metadata": {},
   "outputs": [
    {
     "data": {
      "image/png": "[encoded data removed]",
      "text/plain": [
       "<Figure size 1000x600 with 1 Axes>"
      ]
     },
     "metadata": {},
     "output_type": "display_data"
    }
   ],
   "source": [
    "#creating a graph by line graph\n",
    "content_by_year_type = df.groupby(['release_year', 'type']).size().unstack().fillna(0)\n",
    "plt.figure(figsize=(10, 6))\n",
    "plt.plot(content_by_year_type.index, content_by_year_type['Movie'], label='Movies', color='green', marker='o')\n",
    "plt.plot(content_by_year_type.index, content_by_year_type['TV Show'], label='TV Shows', color='blue', marker='o')\n",
    "plt.title('Netflix Content Released per Year')\n",
    "plt.xlabel('Release Year')\n",
    "plt.ylabel('Number of Titles')\n",
    "plt.legend()\n",
    "plt.grid(True)\n",
    "plt.tight_layout()\n",
    "plt.show()\n"
   ]
  },
  {
   "cell_type": "code",
   "execution_count": null,
   "id": "8105f8db",
   "metadata": {},
   "outputs": [
    {
     "data": {
      "image/png": "[encoded data removed]",
      "text/plain": [
       "<Figure size 640x480 with 1 Axes>"
      ]
     },
     "metadata": {},
     "output_type": "display_data"
    }
   ],
   "source": [
    "#creating a bar graph\n",
    "top_countries = df['country'].value_counts().head(10)\n",
    "sns.barplot(x=top_countries.values, y=top_countries.index)\n",
    "plt.title('Top Countries by Content')\n",
    "plt.xlabel('Number of Titles')\n",
    "plt.ylabel('Country')\n",
    "plt.show()"
   ]
  },
  {
   "cell_type": "code",
   "execution_count": 8,
   "id": "14616dcc",
   "metadata": {},
   "outputs": [
    {
     "ename": "NameError",
     "evalue": "name 'df' is not defined",
     "output_type": "error",
     "traceback": [
      "\u001b[31m---------------------------------------------------------------------------\u001b[39m",
      "\u001b[31mNameError\u001b[39m                                 Traceback (most recent call last)",
      "\u001b[36mCell\u001b[39m\u001b[36m \u001b[39m\u001b[32mIn[8]\u001b[39m\u001b[32m, line 1\u001b[39m\n\u001b[32m----> \u001b[39m\u001b[32m1\u001b[39m top_genres = \u001b[43mdf\u001b[49m[\u001b[33m'\u001b[39m\u001b[33mlisted_in\u001b[39m\u001b[33m'\u001b[39m].value_counts().head(\u001b[32m10\u001b[39m)\n\u001b[32m      2\u001b[39m sns.barplot(x=top_genres.values, y=top_genres.index)\n\u001b[32m      3\u001b[39m plt.title(\u001b[33m'\u001b[39m\u001b[33mTop 10 Genres\u001b[39m\u001b[33m'\u001b[39m)\n",
      "\u001b[31mNameError\u001b[39m: name 'df' is not defined"
     ]
    }
   ],
   "source": [
    "top_genres = df['listed_in'].value_counts().head(10)\n",
    "sns.barplot(x=top_genres.values, y=top_genres.index)\n",
    "plt.title('Top 10 Genres')\n",
    "plt.show()"
   ]
  },
  {
   "cell_type": "code",
   "execution_count": null,
   "id": "16daa222",
   "metadata": {},
   "outputs": [
    {
     "name": "stderr",
     "output_type": "stream",
     "text": [
      "/var/folders/0q/hx0knz017s7b18q6gzk5x_180000gn/T/ipykernel_9828/3038689766.py:10: UserWarning: Glyph 128205 (\\N{ROUND PUSHPIN}) missing from font(s) DejaVu Sans.\n",
      "  plt.tight_layout()\n",
      "/Library/Frameworks/Python.framework/Versions/3.13/lib/python3.13/site-packages/IPython/core/pylabtools.py:170: UserWarning: Glyph 128205 (\\N{ROUND PUSHPIN}) missing from font(s) DejaVu Sans.\n",
      "  fig.canvas.print_figure(bytes_io, **kw)\n"
     ]
    },
    {
     "data": {
      "image/png": "[encoded data removed]",
      "text/plain": [
       "<Figure size 1000x600 with 1 Axes>"
      ]
     },
     "metadata": {},
     "output_type": "display_data"
    }
   ],
   "source": [
    "#creating scattered graph\n",
    "content_per_year = df.groupby(['release_year', 'type']).size().unstack().fillna(0)\n",
    "plt.figure(figsize=(10, 6))\n",
    "plt.scatter(content_per_year.index, content_per_year['Movie'], color='red', label='Movies', alpha=0.7)\n",
    "plt.scatter(content_per_year.index, content_per_year['TV Show'], color='blue', label='TV Shows', alpha=0.7)\n",
    "plt.title('📍 Netflix Content Released per Year (Scatter Plot)')\n",
    "plt.xlabel('Release Year')\n",
    "plt.ylabel('Number of Titles')\n",
    "plt.grid(True)\n",
    "plt.tight_layout()\n",
    "plt.show()\n"
   ]
  }
 ],
 "metadata": {
  "kernelspec": {
   "display_name": "Python 3",
   "language": "python",
   "name": "python3"
  },
  "language_info": {
   "codemirror_mode": {
    "name": "ipython",
    "version": 3
   },
   "file_extension": ".py",
   "mimetype": "text/x-python",
   "name": "python",
   "nbconvert_exporter": "python",
   "pygments_lexer": "ipython3",
   "version": "3.13.5"
  }
 },
 "nbformat": 4,
 "nbformat_minor": 5
}
